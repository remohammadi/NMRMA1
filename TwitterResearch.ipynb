{
 "cells": [
  {
   "cell_type": "code",
   "execution_count": 1,
   "metadata": {},
   "outputs": [],
   "source": [
    "import twitter\n",
    "from local import *\n",
    "api = twitter.Api(\n",
    "    consumer_key=CONSUMER_KEY,\n",
    "    consumer_secret=CONSUMER_SECRET,\n",
    "    access_token_key=ACCESS_TOKEN_KEY,\n",
    "    access_token_secret=ACCESS_TOKEN_SECRET,\n",
    "    sleep_on_rate_limit=True)"
   ]
  },
  {
   "cell_type": "code",
   "execution_count": 2,
   "metadata": {},
   "outputs": [
    {
     "name": "stdout",
     "output_type": "stream",
     "text": [
      "Ashraf Ghani 🇦🇫, MFA Afghanistan 🇦🇫, Mahmoud Saikal 🇦🇫, Afghanistan Mission 🇦🇫, Mauricio Macri 🇦🇷, Jorge Faurie 🇦🇷, Argentina at the United Nations 🇦🇷, Scott Morrison 🇦🇺, Marise Payne 🇦🇺, Gillian Bird 🇦🇺, Michel Temer 🇧🇷, Aloysio Nunes 🇧🇷, Itamaraty Brazil 🇧🇷, Brazil Mission UN 🇧🇷, Justin Trudeau 🇨🇦, CanadianPM 🇨🇦, Chrystia Freeland 🇨🇦, Marc-Andre Blanchard 🇨🇦, Chinese Mission to UN 🇨🇳, Jean-Claude Juncker 🇪🇺, Federica Mogherini 🇪🇺, ValedeAlmeidaEU 🇪🇺, European External Action Service 🇪🇺, Emmanuel Macron 🇫🇷, Jean-Yves Le Drian 🇫🇷, La France à l'ONU 🇫🇷, Angela Merkel 🇩🇪, Heiko Maas 🇩🇪, GermanForeignOffice 🇩🇪, German Mission to UN 🇩🇪, Narendra Modi 🇮🇳, Sushma Swaraj 🇮🇳, Syed Akbaruddin 🇮🇳, Joko Widodo 🇮🇩, Menteri Luar Negeri 🇮🇩, D.T. Djani 🇮🇩, Hassan Rouhani 🇮🇷, Javad Zarif 🇮🇷, Iran at the UN 🇮🇷, Benjamin Netanyahu 🇮🇱, PM of Israel 🇮🇱, Israel Foreign Min. 🇮🇱, Israel Mission to UN 🇮🇱, Ambassador Danon 🇮🇱, Quirinale 🇮🇹, Farnesina 🇮🇹, Mariangela Zappia 🇮🇹, Shinzō Abe 🇯🇵, MOFA of Japan 🇯🇵, Japanese Mission UN 🇯🇵, Andrés Manuel 🇲🇽, Marcelo Ebrard C. 🇲🇽, JJ Gómez Camacho 🇲🇽, Imran Khan 🇵🇰, Shah Mahmood Qureshi 🇵🇰, Maleeha Lodhi 🇵🇰, Pakistan Mission to the UN 🇵🇰, President of Russia 🇷🇺, MFA Russia 🇷🇺, Russian Mission UN 🇷🇺, Salman bin Abdulaziz 🇸🇦, Adel Aljubeir 🇸🇦, KSA Mission UN 🇸🇦, Foreign Ministry 🇸🇦, Abdallah AlMouallimi 🇸🇦, President Cyril Ramaphosa 🇿🇦, Lindiwe Sisulu 🇿🇦, South African Mission to UN 🇿🇦, The Office of President Moon Jae-in 🇰🇷, MOFA 🇰🇷, ROK_UN 🇰🇷, Recep Tayyip Erdoğan 🇹🇷, Mevlüt Çavuşoğlu 🇹🇷, Theresa May 🇬🇧, Jeremy Hunt 🇬🇧, Karen Pierce 🇬🇧, United Nations 🇺🇳, António Guterres 🇺🇳, UN GA President 🇺🇳, Donald J. Trump 🇺🇸, President Trump 🇺🇸, Secretary Pompeo 🇺🇸, US Mission to the UN 🇺🇸, Nikki Haley 🇺🇸, Jamal Khashoggi\n"
     ]
    }
   ],
   "source": [
    "from accounts import accounts\n",
    "print(\", \".join([str(a) for a in accounts]))"
   ]
  },
  {
   "cell_type": "code",
   "execution_count": 3,
   "metadata": {},
   "outputs": [
    {
     "name": "stdout",
     "output_type": "stream",
     "text": [
      "Loaded Ashraf Ghani 🇦🇫\n",
      "Loaded MFA Afghanistan 🇦🇫\n",
      "Fetched Mahmoud Saikal 🇦🇫\n",
      "Loaded Afghanistan Mission 🇦🇫\n",
      "Loaded Mauricio Macri 🇦🇷\n",
      "Loaded Jorge Faurie 🇦🇷\n",
      "Loaded Argentina at the United Nations 🇦🇷\n",
      "Loaded Scott Morrison 🇦🇺\n",
      "Loaded Marise Payne 🇦🇺\n",
      "Loaded Gillian Bird 🇦🇺\n",
      "Loaded Michel Temer 🇧🇷\n",
      "Loaded Aloysio Nunes 🇧🇷\n",
      "Loaded Itamaraty Brazil 🇧🇷\n",
      "Loaded Brazil Mission UN 🇧🇷\n",
      "Loaded Justin Trudeau 🇨🇦\n",
      "Loaded CanadianPM 🇨🇦\n",
      "Loaded Chrystia Freeland 🇨🇦\n",
      "Loaded Marc-Andre Blanchard 🇨🇦\n",
      "Loaded Chinese Mission to UN 🇨🇳\n",
      "Loaded Jean-Claude Juncker 🇪🇺\n",
      "Loaded Federica Mogherini 🇪🇺\n",
      "Loaded ValedeAlmeidaEU 🇪🇺\n",
      "Loaded European External Action Service 🇪🇺\n",
      "Loaded Emmanuel Macron 🇫🇷\n",
      "Loaded Jean-Yves Le Drian 🇫🇷\n",
      "Loaded La France à l'ONU 🇫🇷\n",
      "Fetched Angela Merkel 🇩🇪\n",
      "Loaded Heiko Maas 🇩🇪\n",
      "Fetched GermanForeignOffice 🇩🇪\n",
      "Loaded German Mission to UN 🇩🇪\n",
      "Loaded Narendra Modi 🇮🇳\n",
      "Loaded Sushma Swaraj 🇮🇳\n",
      "Loaded Syed Akbaruddin 🇮🇳\n",
      "Loaded Joko Widodo 🇮🇩\n",
      "Loaded Menteri Luar Negeri 🇮🇩\n",
      "Loaded D.T. Djani 🇮🇩\n",
      "Loaded Hassan Rouhani 🇮🇷\n",
      "Loaded Javad Zarif 🇮🇷\n",
      "Loaded Iran at the UN 🇮🇷\n",
      "Loaded Benjamin Netanyahu 🇮🇱\n",
      "Loaded PM of Israel 🇮🇱\n",
      "Loaded Israel Foreign Min. 🇮🇱\n",
      "Loaded Israel Mission to UN 🇮🇱\n",
      "Loaded Ambassador Danon 🇮🇱\n",
      "Loaded Quirinale 🇮🇹\n",
      "Loaded Farnesina 🇮🇹\n",
      "Loaded Mariangela Zappia 🇮🇹\n",
      "Loaded Shinzō Abe 🇯🇵\n",
      "Loaded MOFA of Japan 🇯🇵\n",
      "Loaded Japanese Mission UN 🇯🇵\n",
      "Loaded Andrés Manuel 🇲🇽\n",
      "Loaded Marcelo Ebrard C. 🇲🇽\n",
      "Loaded JJ Gómez Camacho 🇲🇽\n",
      "Loaded Imran Khan 🇵🇰\n",
      "Loaded Shah Mahmood Qureshi 🇵🇰\n",
      "Loaded Maleeha Lodhi 🇵🇰\n",
      "Loaded Pakistan Mission to the UN 🇵🇰\n",
      "Loaded President of Russia 🇷🇺\n",
      "Loaded MFA Russia 🇷🇺\n",
      "Loaded Russian Mission UN 🇷🇺\n",
      "Loaded Salman bin Abdulaziz 🇸🇦\n",
      "Loaded Adel Aljubeir 🇸🇦\n",
      "Loaded KSA Mission UN 🇸🇦\n",
      "Loaded Foreign Ministry 🇸🇦\n",
      "Loaded Abdallah AlMouallimi 🇸🇦\n",
      "Loaded President Cyril Ramaphosa 🇿🇦\n",
      "Loaded Lindiwe Sisulu 🇿🇦\n",
      "Loaded South African Mission to UN 🇿🇦\n",
      "Loaded The Office of President Moon Jae-in 🇰🇷\n",
      "Loaded MOFA 🇰🇷\n",
      "Loaded ROK_UN 🇰🇷\n",
      "Loaded Recep Tayyip Erdoğan 🇹🇷\n",
      "Loaded Mevlüt Çavuşoğlu 🇹🇷\n",
      "Loaded Theresa May 🇬🇧\n",
      "Loaded Jeremy Hunt 🇬🇧\n",
      "Loaded Karen Pierce 🇬🇧\n",
      "Loaded United Nations 🇺🇳\n",
      "Loaded António Guterres 🇺🇳\n",
      "Fetched UN GA President 🇺🇳\n",
      "Loaded Donald J. Trump 🇺🇸\n",
      "Loaded President Trump 🇺🇸\n",
      "Loaded Secretary Pompeo 🇺🇸\n",
      "Loaded US Mission to the UN 🇺🇸\n",
      "Loaded Nikki Haley 🇺🇸\n",
      "Loaded Jamal Khashoggi\n"
     ]
    }
   ],
   "source": [
    "for account in accounts:\n",
    "    try:\n",
    "        f = account.fetch(api, from_internet_even_if_local_exists=False, save=True)\n",
    "        if f:\n",
    "            print(\"Fetched\", account)\n",
    "        else:\n",
    "            print(\"Loaded\", account)\n",
    "    except:\n",
    "        import sys\n",
    "        print(\"Unexpected error for\", account, ':', sys.exc_info()[0])"
   ]
  },
  {
   "cell_type": "code",
   "execution_count": null,
   "metadata": {},
   "outputs": [],
   "source": []
  }
 ],
 "metadata": {
  "kernelspec": {
   "display_name": "Python 3",
   "language": "python",
   "name": "python3"
  },
  "language_info": {
   "codemirror_mode": {
    "name": "ipython",
    "version": 3
   },
   "file_extension": ".py",
   "mimetype": "text/x-python",
   "name": "python",
   "nbconvert_exporter": "python",
   "pygments_lexer": "ipython3",
   "version": "3.7.0"
  }
 },
 "nbformat": 4,
 "nbformat_minor": 2
}

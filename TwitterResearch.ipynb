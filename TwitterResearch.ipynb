{
 "cells": [
  {
   "cell_type": "code",
   "execution_count": null,
   "metadata": {},
   "outputs": [],
   "source": [
    "import twitter\n",
    "from local import *\n",
    "api = twitter.Api(\n",
    "    consumer_key=CONSUMER_KEY,\n",
    "    consumer_secret=CONSUMER_SECRET,\n",
    "    access_token_key=ACCESS_TOKEN_KEY,\n",
    "    access_token_secret=ACCESS_TOKEN_SECRET,\n",
    "    sleep_on_rate_limit=True)"
   ]
  },
  {
   "cell_type": "code",
   "execution_count": 2,
   "metadata": {},
   "outputs": [
    {
     "name": "stdout",
     "output_type": "stream",
     "text": [
      "ashrafghani 🇦🇫, mfa_afghanistan 🇦🇫, afghanmissionun 🇦🇫, ARG_AFG 🇦🇫, Mauricio Macri 🇦🇷, Jorge Faurie 🇦🇷, Argentina at the United Nations 🇦🇷, Scott Morrison 🇦🇺, Marise Payne 🇦🇺, Gillian Bird 🇦🇺, Michel Temer 🇧🇷, Aloysio Nunes 🇧🇷, Itamaraty Brazil 🇧🇷, Brazil Mission UN 🇧🇷, JustinTrudeau 🇨🇦, cafreeland 🇨🇦, blanchardCanada 🇨🇦, CanadianPM 🇨🇦, Chinese Mission to UN 🇨🇳, JunckerEU 🇪🇺, FedericaMog 🇪🇺, ValedeAlmeidaEU 🇪🇺, European External Action Service 🇪🇺, Emmanuel Macron 🇫🇷, jy_ledrian 🇫🇷, La France à l'ONU 🇫🇷, angelamerkelcdu 🇩🇪, heikomaas 🇩🇪, germanyun 🇩🇪, narendramodi 🇮🇳, SushmaSwaraj 🇮🇳, AkbaruddinIndia 🇮🇳, jokowi 🇮🇩, Menlu_Ri 🇮🇩, DTDjani 🇮🇩, hassanrouhani 🇮🇷, jzarif 🇮🇷, iran_un 🇮🇷, netanyahu 🇮🇱, IsraelMFA 🇮🇱, IsraelinUN 🇮🇱, IsraeliPM 🇮🇱, Quirinale 🇮🇹, Farnesina 🇮🇹, Mariangela Zappia 🇮🇹, 安倍晋三 🇯🇵, MofaJapan_en 🇯🇵, JapanMissionUN 🇯🇵, Andrés Manuel 🇲🇽, m_ebrard 🇲🇽, JJGomezCamacho 🇲🇽, Imran Khan 🇵🇰, Shah Mahmood Qureshi 🇵🇰, Maleeha Lodhi 🇵🇰, Pakistan Mission to the UN 🇵🇰, President of Russia 🇷🇺, MFA Russia 🇷🇺, Russian Mission UN 🇷🇺, kingsalman 🇸🇦, adelaljubeir 🇸🇦, ksamissionun 🇸🇦, ksamofaen 🇸🇦, amouallimi 🇸🇦, CyrilRamaphosa 🇿🇦, LindiweSisuluSA 🇿🇦, SAMissionNY 🇿🇦, TheBlueHouse_ENG 🇰🇷, MOFAkr_ENG 🇰🇷, ROK_UN 🇰🇷, Recep Tayyip Erdoğan 🇹🇷, Mevlüt Çavuşoğlu 🇹🇷, Theresa May 🇬🇧, Jeremy Hunt 🇬🇧, Karen Pierce 🇬🇧, United Nations 🇺🇳, António Guterres 🇺🇳, Donald J. Trump 🇺🇸, Secretary Pompeo 🇺🇸, US Mission to the UN 🇺🇸, President Trump 🇺🇸, Jamal Khashoggi\n"
     ]
    }
   ],
   "source": [
    "from accounts import accounts\n",
    "print(\", \".join([str(a) for a in accounts]))"
   ]
  },
  {
   "cell_type": "code",
   "execution_count": null,
   "metadata": {},
   "outputs": [],
   "source": [
    "for account in accounts:\n",
    "    account.fetch(api, from_internet_even_if_local_exists=False, save=True)"
   ]
  },
  {
   "cell_type": "code",
   "execution_count": null,
   "metadata": {},
   "outputs": [],
   "source": []
  }
 ],
 "metadata": {
  "kernelspec": {
   "display_name": "Python 3",
   "language": "python",
   "name": "python3"
  },
  "language_info": {
   "codemirror_mode": {
    "name": "ipython",
    "version": 2
   },
   "file_extension": ".py",
   "mimetype": "text/x-python",
   "name": "python",
   "nbconvert_exporter": "python",
   "pygments_lexer": "ipython2",
   "version": "2.7.15"
  }
 },
 "nbformat": 4,
 "nbformat_minor": 2
}

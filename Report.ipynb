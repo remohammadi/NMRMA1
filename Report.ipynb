{
 "cells": [
  {
   "cell_type": "markdown",
   "metadata": {},
   "source": [
    "# Is Google biased in Representing Gun-related Issues in the US?\n",
    "(Will be filled from the [Google Doc](https://docs.google.com/document/d/1Vn5gixfqObaT2fnBjv8SkHH2RwmZA7VP6_rtFlOs1go/edit#))\n",
    "\n",
    "# Methodology\n"
   ]
  },
  {
   "cell_type": "code",
   "execution_count": 3,
   "metadata": {},
   "outputs": [
    {
     "name": "stdout",
     "output_type": "stream",
     "text": [
      "https://www.la-croix.com/Monde/Japon-femme-pilote-chasse-premiere-fois-2018-08-23-1300963468\n",
      "https://www.ladepeche.fr/article/2018/04/25/2786889-78-ans-moroder-roi-disco-tire-reverence.html\n",
      "https://www.lexpress.fr/actualites/1/monde/pour-les-experts-de-l-oiac-mission-quasi-impossible-a-douma_2000759.html\n",
      "https://www.ladepeche.fr/article/2016/07/05/2379329-de-bruxelles-a-hollywood-l-aventure-des-realisateurs-de-black.html\n",
      "https://wpolityce.pl/polityka/139280-badaczka-krystyna-piorkowska-o-amerykanskich-dokumentach-ws-katynia\n",
      "https://www.geenstijl.nl/4614731/quiz_wat_heeft_die_oranje_gori/\n",
      "https://www.ouest-france.fr/europe/belgique/belgique-un-homme-arrete-pour-avoir-tente-de-foncer-sur-des-pietons-4878660\n",
      "https://www.geenstijl.nl/4613981/oranje_komt_in_verzet/\n",
      "https://forsal.pl/artykuly/944914,dyplomata-usa-o-rosyjskich-prowokacjach-nie-potrzebujemy-powtorki-z-top-gun-nad-baltykiem.html\n",
      "https://www.panorama.it/musica/i-kiss-allarena-verona-l11-giugno/\n"
     ]
    }
   ],
   "source": [
    "from googlesearch import search_news\n",
    "for url in search_news('gun', stop=20):\n",
    "    print(url)\n"
   ]
  }
 ],
 "metadata": {
  "kernelspec": {
   "display_name": "Python 3",
   "language": "python",
   "name": "python3"
  },
  "language_info": {
   "codemirror_mode": {
    "name": "ipython",
    "version": 3
   },
   "file_extension": ".py",
   "mimetype": "text/x-python",
   "name": "python",
   "nbconvert_exporter": "python",
   "pygments_lexer": "ipython3",
   "version": "3.7.0"
  }
 },
 "nbformat": 4,
 "nbformat_minor": 2
}
